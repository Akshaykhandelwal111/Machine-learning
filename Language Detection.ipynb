{
 "cells": [
  {
   "cell_type": "markdown",
   "id": "d36529ad",
   "metadata": {},
   "source": [
    "Let's start the teask of language detection with machine learning by importing the necessary python libraries and the dataset:"
   ]
  },
  {
   "cell_type": "code",
   "execution_count": null,
   "id": "ad184c27",
   "metadata": {},
   "outputs": [],
   "source": [
    "import pandas as pd\n",
    "import numpy as np\n",
    "from sklearn.feature_extraction.text import CountVectorizer\n",
    "from sklearn.model_selection import train_test_split\n",
    "from sklearn.naive_bayes import MultinomialNB\n",
    "data =pd.read_csv(\"Language Detection.csv\")\n",
    "print(data.head())"
   ]
  },
  {
   "cell_type": "code",
   "execution_count": null,
   "id": "9d647410",
   "metadata": {},
   "outputs": [],
   "source": [
    "data.isnull().sum()"
   ]
  },
  {
   "cell_type": "code",
   "execution_count": null,
   "id": "2bcc28ef",
   "metadata": {},
   "outputs": [],
   "source": [
    "data[\"Language\"].value_counts()"
   ]
  },
  {
   "cell_type": "code",
   "execution_count": null,
   "id": "b1579097",
   "metadata": {},
   "outputs": [],
   "source": [
    "x= np.array(data[\"Text\"])\n",
    "y= np.array(data[\"Language\"])\n",
    "\n",
    "cv = CountVectorizer()\n",
    "X= cv.fit_transform(x)\n",
    "X_train, X_test, y_train, y_test =train_test_split(X, y, test_size=0.33, random_state=42)"
   ]
  },
  {
   "cell_type": "code",
   "execution_count": null,
   "id": "83061777",
   "metadata": {},
   "outputs": [],
   "source": [
    "model =MultinomialNB()\n",
    "model.fit(X_train,y_train)\n",
    "model.score(X_test,y_test)"
   ]
  },
  {
   "cell_type": "code",
   "execution_count": null,
   "id": "a0c43096",
   "metadata": {},
   "outputs": [],
   "source": [
    "user =input(\"Enter a Text:\")\n",
    "data =cv.transform([user]).toarray()\n",
    "output=model.predict(data)\n",
    "print(output)"
   ]
  },
  {
   "cell_type": "code",
   "execution_count": null,
   "id": "5672e23c",
   "metadata": {},
   "outputs": [],
   "source": []
  }
 ],
 "metadata": {
  "kernelspec": {
   "display_name": "Python 3 (ipykernel)",
   "language": "python",
   "name": "python3"
  },
  "language_info": {
   "codemirror_mode": {
    "name": "ipython",
    "version": 3
   },
   "file_extension": ".py",
   "mimetype": "text/x-python",
   "name": "python",
   "nbconvert_exporter": "python",
   "pygments_lexer": "ipython3",
   "version": "3.10.6"
  }
 },
 "nbformat": 4,
 "nbformat_minor": 5
}
